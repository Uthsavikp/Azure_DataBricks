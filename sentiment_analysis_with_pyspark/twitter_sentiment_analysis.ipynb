{
 "cells": [
  {
   "cell_type": "code",
   "execution_count": null,
   "id": "included-fancy",
   "metadata": {},
   "outputs": [],
   "source": [
    "import tweepy\n",
    "#Used for authentication protocal(OAuth) of Twitter API\n",
    "from tweepy import OAuthHandler\n",
    "#This will allow us to create a stream from twitter\n",
    "from tweepy import Stream\n",
    "#Will allow us to get the data from the port number\n",
    "from tweepy.streaming import StreamListener\n",
    "#It is used to create socket/port on the local machine \n",
    "import socket\n",
    "#json is used because twitter data comes in json format \n",
    "import json\n",
    "\n",
    "#To connect to Twitter API we need these four keys\n",
    "consumer_key = \"\"\n",
    "consumer_secret = \"\"\n",
    "access_token = \"\"\n",
    "access_secret = \"\"\n",
    "\n",
    "class TweetsListener(StreamListener):\n",
    "    def __init__(self,csocket):\n",
    "        self.client_socket = csocket\n",
    "    def on_data(self, data):\n",
    "        try:\n",
    "            msg = json.loads(data)\n",
    "            print(msg[\"text\"].encode(\"utf-8\"))\n",
    "            self.client_socket.send(msg[\"text\"].encode(\"utf-8\"))\n",
    "            return True\n",
    "        except BaseException as e:\n",
    "            print(\"Error on_data: %s\" % str(e))\n",
    "        return True\n",
    "    def on_error(self, status):\n",
    "        print(status)\n",
    "        return True\n",
    "\n",
    "def sendData(c_socket):\n",
    "    auth = OAuthHandler(consumer_key, consumer_secret)\n",
    "    auth.set_access_token(access_token,access_secret)\n",
    "    twitter_stream = Stream(auth, TweetsListener(c_socket))\n",
    "    twitter_stream.filter(track=[\"trump\"])\n",
    "\n",
    "if __name__ == \"__main__\":\n",
    "    s = socket.socket() #create a socket object\n",
    "    host = \"127.0.0.1\" #Get local machine name\n",
    "    port = 9091 #Reserve a port for my service\n",
    "    s.bind((host, port)) #Bind to the port\n",
    "    print(\"Listening on port: %s\" % str(port))\n",
    "    s.listen(5)  #wait for the client connection\n",
    "    c, addr = s.accept() #establishing connection with client\n",
    "    print(\"Received request from: \" + str(addr)) \n",
    "    sendData(c)"
   ]
  }
 ],
 "metadata": {
  "kernelspec": {
   "display_name": "Python 3",
   "language": "python",
   "name": "python3"
  },
  "language_info": {
   "codemirror_mode": {
    "name": "ipython",
    "version": 3
   },
   "file_extension": ".py",
   "mimetype": "text/x-python",
   "name": "python",
   "nbconvert_exporter": "python",
   "pygments_lexer": "ipython3",
   "version": "3.8.5"
  }
 },
 "nbformat": 4,
 "nbformat_minor": 5
}